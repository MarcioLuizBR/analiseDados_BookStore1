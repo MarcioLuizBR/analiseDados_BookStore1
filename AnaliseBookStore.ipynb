{
 "cells": [
  {
   "cell_type": "markdown",
   "id": "5b5db075",
   "metadata": {},
   "source": [
    "# Projeto Análise de Dados 1\n",
    "\n",
    "- Publishing Year: Ano de publicação do livro. (Numeric)\n",
    "- Book Name: Título do livro. (Text)\n",
    "- Author: Nome do autor. (Text)\n",
    "- language_code: Código que representa a linguagem em que o livro foi escrito. (Text)\n",
    "- Author_Rating: Rating do autor baseado em trabalhos prévios. (Numeric)\n",
    "- Book_average_rating: Rating médio dado ao livro pelos leitores. (Numeric)\n",
    "- Book_ratings_count: Número de ratings dados pelos leitores. (Numeric)\n",
    "- genre: Gênero do livro. (Text)\n",
    "- gross sales: Total de receita gerada pelas vendas do livro. (Numeric)\n",
    "- publisher revenue: A receita recebida pela publicadora do livro. (Numeric)\n",
    "- sale price: Preço de vendo do livro. (Numeric)\n",
    "- sales rank: Ranking da venda do livro. (Numeric)\n",
    "- units sold: Número de unidades vendidas. (Numeric)"
   ]
  },
  {
   "cell_type": "code",
   "execution_count": 1,
   "id": "f573f8ce",
   "metadata": {},
   "outputs": [],
   "source": [
    "import pandas as pd\n",
    "import matplotlib.pyplot as plt\n",
    "import seaborn as sns"
   ]
  },
  {
   "cell_type": "code",
   "execution_count": 2,
   "id": "96306f3c",
   "metadata": {},
   "outputs": [
    {
     "data": {
      "text/html": [
       "<div>\n",
       "<style scoped>\n",
       "    .dataframe tbody tr th:only-of-type {\n",
       "        vertical-align: middle;\n",
       "    }\n",
       "\n",
       "    .dataframe tbody tr th {\n",
       "        vertical-align: top;\n",
       "    }\n",
       "\n",
       "    .dataframe thead th {\n",
       "        text-align: right;\n",
       "    }\n",
       "</style>\n",
       "<table border=\"1\" class=\"dataframe\">\n",
       "  <thead>\n",
       "    <tr style=\"text-align: right;\">\n",
       "      <th></th>\n",
       "      <th>index</th>\n",
       "      <th>Publishing Year</th>\n",
       "      <th>Book Name</th>\n",
       "      <th>Author</th>\n",
       "      <th>language_code</th>\n",
       "      <th>Author_Rating</th>\n",
       "      <th>Book_average_rating</th>\n",
       "      <th>Book_ratings_count</th>\n",
       "      <th>genre</th>\n",
       "      <th>gross sales</th>\n",
       "      <th>publisher revenue</th>\n",
       "      <th>sale price</th>\n",
       "      <th>sales rank</th>\n",
       "      <th>Publisher</th>\n",
       "      <th>units sold</th>\n",
       "    </tr>\n",
       "  </thead>\n",
       "  <tbody>\n",
       "    <tr>\n",
       "      <th>0</th>\n",
       "      <td>0</td>\n",
       "      <td>1975.0</td>\n",
       "      <td>Beowulf</td>\n",
       "      <td>Unknown, Seamus Heaney</td>\n",
       "      <td>en-US</td>\n",
       "      <td>Novice</td>\n",
       "      <td>3.42</td>\n",
       "      <td>155903</td>\n",
       "      <td>genre fiction</td>\n",
       "      <td>34160.0</td>\n",
       "      <td>20496.0</td>\n",
       "      <td>4.88</td>\n",
       "      <td>1</td>\n",
       "      <td>HarperCollins Publishers</td>\n",
       "      <td>7000</td>\n",
       "    </tr>\n",
       "    <tr>\n",
       "      <th>1</th>\n",
       "      <td>1</td>\n",
       "      <td>1987.0</td>\n",
       "      <td>Batman: Year One</td>\n",
       "      <td>Frank Miller, David Mazzucchelli, Richmond Lew...</td>\n",
       "      <td>eng</td>\n",
       "      <td>Intermediate</td>\n",
       "      <td>4.23</td>\n",
       "      <td>145267</td>\n",
       "      <td>genre fiction</td>\n",
       "      <td>12437.5</td>\n",
       "      <td>7462.5</td>\n",
       "      <td>1.99</td>\n",
       "      <td>2</td>\n",
       "      <td>HarperCollins Publishers</td>\n",
       "      <td>6250</td>\n",
       "    </tr>\n",
       "    <tr>\n",
       "      <th>2</th>\n",
       "      <td>2</td>\n",
       "      <td>2015.0</td>\n",
       "      <td>Go Set a Watchman</td>\n",
       "      <td>Harper Lee</td>\n",
       "      <td>eng</td>\n",
       "      <td>Novice</td>\n",
       "      <td>3.31</td>\n",
       "      <td>138669</td>\n",
       "      <td>genre fiction</td>\n",
       "      <td>47795.0</td>\n",
       "      <td>28677.0</td>\n",
       "      <td>8.69</td>\n",
       "      <td>3</td>\n",
       "      <td>Amazon Digital Services,  Inc.</td>\n",
       "      <td>5500</td>\n",
       "    </tr>\n",
       "    <tr>\n",
       "      <th>3</th>\n",
       "      <td>3</td>\n",
       "      <td>2008.0</td>\n",
       "      <td>When You Are Engulfed in Flames</td>\n",
       "      <td>David Sedaris</td>\n",
       "      <td>en-US</td>\n",
       "      <td>Intermediate</td>\n",
       "      <td>4.04</td>\n",
       "      <td>150898</td>\n",
       "      <td>fiction</td>\n",
       "      <td>41250.0</td>\n",
       "      <td>24750.0</td>\n",
       "      <td>7.50</td>\n",
       "      <td>3</td>\n",
       "      <td>Hachette Book Group</td>\n",
       "      <td>5500</td>\n",
       "    </tr>\n",
       "    <tr>\n",
       "      <th>4</th>\n",
       "      <td>4</td>\n",
       "      <td>2011.0</td>\n",
       "      <td>Daughter of Smoke &amp; Bone</td>\n",
       "      <td>Laini Taylor</td>\n",
       "      <td>eng</td>\n",
       "      <td>Intermediate</td>\n",
       "      <td>4.04</td>\n",
       "      <td>198283</td>\n",
       "      <td>genre fiction</td>\n",
       "      <td>37952.5</td>\n",
       "      <td>22771.5</td>\n",
       "      <td>7.99</td>\n",
       "      <td>4</td>\n",
       "      <td>Penguin Group (USA) LLC</td>\n",
       "      <td>4750</td>\n",
       "    </tr>\n",
       "  </tbody>\n",
       "</table>\n",
       "</div>"
      ],
      "text/plain": [
       "   index  Publishing Year                        Book Name  \\\n",
       "0      0           1975.0                          Beowulf   \n",
       "1      1           1987.0                 Batman: Year One   \n",
       "2      2           2015.0                Go Set a Watchman   \n",
       "3      3           2008.0  When You Are Engulfed in Flames   \n",
       "4      4           2011.0         Daughter of Smoke & Bone   \n",
       "\n",
       "                                              Author language_code  \\\n",
       "0                             Unknown, Seamus Heaney         en-US   \n",
       "1  Frank Miller, David Mazzucchelli, Richmond Lew...           eng   \n",
       "2                                         Harper Lee           eng   \n",
       "3                                      David Sedaris         en-US   \n",
       "4                                       Laini Taylor           eng   \n",
       "\n",
       "  Author_Rating  Book_average_rating  Book_ratings_count          genre  \\\n",
       "0        Novice                 3.42              155903  genre fiction   \n",
       "1  Intermediate                 4.23              145267  genre fiction   \n",
       "2        Novice                 3.31              138669  genre fiction   \n",
       "3  Intermediate                 4.04              150898        fiction   \n",
       "4  Intermediate                 4.04              198283  genre fiction   \n",
       "\n",
       "   gross sales  publisher revenue  sale price  sales rank  \\\n",
       "0      34160.0            20496.0        4.88           1   \n",
       "1      12437.5             7462.5        1.99           2   \n",
       "2      47795.0            28677.0        8.69           3   \n",
       "3      41250.0            24750.0        7.50           3   \n",
       "4      37952.5            22771.5        7.99           4   \n",
       "\n",
       "                       Publisher   units sold  \n",
       "0        HarperCollins Publishers        7000  \n",
       "1        HarperCollins Publishers        6250  \n",
       "2  Amazon Digital Services,  Inc.        5500  \n",
       "3             Hachette Book Group        5500  \n",
       "4         Penguin Group (USA) LLC        4750  "
      ]
     },
     "execution_count": 2,
     "metadata": {},
     "output_type": "execute_result"
    }
   ],
   "source": [
    "df = pd.read_csv('Books_Data_Clean.csv')\n",
    "df.head()"
   ]
  },
  {
   "cell_type": "code",
   "execution_count": null,
   "id": "6e204f25",
   "metadata": {},
   "outputs": [
    {
     "name": "stdout",
     "output_type": "stream",
     "text": [
      "<class 'pandas.core.frame.DataFrame'>\n",
      "RangeIndex: 1070 entries, 0 to 1069\n",
      "Data columns (total 15 columns):\n",
      " #   Column               Non-Null Count  Dtype  \n",
      "---  ------               --------------  -----  \n",
      " 0   index                1070 non-null   int64  \n",
      " 1   Publishing Year      1069 non-null   float64\n",
      " 2   Book Name            1047 non-null   object \n",
      " 3   Author               1070 non-null   object \n",
      " 4   language_code        1017 non-null   object \n",
      " 5   Author_Rating        1070 non-null   object \n",
      " 6   Book_average_rating  1070 non-null   float64\n",
      " 7   Book_ratings_count   1070 non-null   int64  \n",
      " 8   genre                1070 non-null   object \n",
      " 9   gross sales          1070 non-null   float64\n",
      " 10  publisher revenue    1070 non-null   float64\n",
      " 11  sale price           1070 non-null   float64\n",
      " 12  sales rank           1070 non-null   int64  \n",
      " 13  Publisher            1070 non-null   object \n",
      " 14  units sold           1070 non-null   int64  \n",
      "dtypes: float64(5), int64(4), object(6)\n",
      "memory usage: 125.5+ KB\n"
     ]
    }
   ],
   "source": [
    "# verificação resumida\n",
    "df.info()"
   ]
  },
  {
   "cell_type": "code",
   "execution_count": null,
   "id": "2843f8ab",
   "metadata": {},
   "outputs": [
    {
     "data": {
      "text/plain": [
       "index                   0\n",
       "Publishing Year         1\n",
       "Book Name              23\n",
       "Author                  0\n",
       "language_code          53\n",
       "Author_Rating           0\n",
       "Book_average_rating     0\n",
       "Book_ratings_count      0\n",
       "genre                   0\n",
       "gross sales             0\n",
       "publisher revenue       0\n",
       "sale price              0\n",
       "sales rank              0\n",
       "Publisher               0\n",
       "units sold              0\n",
       "dtype: int64"
      ]
     },
     "execution_count": 4,
     "metadata": {},
     "output_type": "execute_result"
    }
   ],
   "source": [
    "# quantidade de nulos\n",
    "df.isna().sum()"
   ]
  },
  {
   "cell_type": "code",
   "execution_count": 5,
   "id": "4bea17bc",
   "metadata": {},
   "outputs": [
    {
     "data": {
      "text/html": [
       "<div>\n",
       "<style scoped>\n",
       "    .dataframe tbody tr th:only-of-type {\n",
       "        vertical-align: middle;\n",
       "    }\n",
       "\n",
       "    .dataframe tbody tr th {\n",
       "        vertical-align: top;\n",
       "    }\n",
       "\n",
       "    .dataframe thead th {\n",
       "        text-align: right;\n",
       "    }\n",
       "</style>\n",
       "<table border=\"1\" class=\"dataframe\">\n",
       "  <thead>\n",
       "    <tr style=\"text-align: right;\">\n",
       "      <th></th>\n",
       "      <th>index</th>\n",
       "      <th>Publishing Year</th>\n",
       "      <th>Book_average_rating</th>\n",
       "      <th>Book_ratings_count</th>\n",
       "      <th>gross sales</th>\n",
       "      <th>publisher revenue</th>\n",
       "      <th>sale price</th>\n",
       "      <th>sales rank</th>\n",
       "      <th>units sold</th>\n",
       "    </tr>\n",
       "  </thead>\n",
       "  <tbody>\n",
       "    <tr>\n",
       "      <th>count</th>\n",
       "      <td>1070.000000</td>\n",
       "      <td>1069.000000</td>\n",
       "      <td>1070.000000</td>\n",
       "      <td>1070.000000</td>\n",
       "      <td>1070.000000</td>\n",
       "      <td>1070.000000</td>\n",
       "      <td>1070.000000</td>\n",
       "      <td>1070.000000</td>\n",
       "      <td>1070.000000</td>\n",
       "    </tr>\n",
       "    <tr>\n",
       "      <th>mean</th>\n",
       "      <td>534.500000</td>\n",
       "      <td>1971.377923</td>\n",
       "      <td>4.007000</td>\n",
       "      <td>94909.913084</td>\n",
       "      <td>1856.622944</td>\n",
       "      <td>843.281030</td>\n",
       "      <td>4.869561</td>\n",
       "      <td>611.652336</td>\n",
       "      <td>9676.980374</td>\n",
       "    </tr>\n",
       "    <tr>\n",
       "      <th>std</th>\n",
       "      <td>309.026698</td>\n",
       "      <td>185.080257</td>\n",
       "      <td>0.247244</td>\n",
       "      <td>31513.242518</td>\n",
       "      <td>3936.924240</td>\n",
       "      <td>2257.596743</td>\n",
       "      <td>3.559919</td>\n",
       "      <td>369.849830</td>\n",
       "      <td>15370.571306</td>\n",
       "    </tr>\n",
       "    <tr>\n",
       "      <th>min</th>\n",
       "      <td>0.000000</td>\n",
       "      <td>-560.000000</td>\n",
       "      <td>2.970000</td>\n",
       "      <td>27308.000000</td>\n",
       "      <td>104.940000</td>\n",
       "      <td>0.000000</td>\n",
       "      <td>0.990000</td>\n",
       "      <td>1.000000</td>\n",
       "      <td>106.000000</td>\n",
       "    </tr>\n",
       "    <tr>\n",
       "      <th>25%</th>\n",
       "      <td>267.250000</td>\n",
       "      <td>1985.000000</td>\n",
       "      <td>3.850000</td>\n",
       "      <td>70398.000000</td>\n",
       "      <td>372.465000</td>\n",
       "      <td>0.000000</td>\n",
       "      <td>1.990000</td>\n",
       "      <td>287.500000</td>\n",
       "      <td>551.250000</td>\n",
       "    </tr>\n",
       "    <tr>\n",
       "      <th>50%</th>\n",
       "      <td>534.500000</td>\n",
       "      <td>2003.000000</td>\n",
       "      <td>4.015000</td>\n",
       "      <td>89309.000000</td>\n",
       "      <td>809.745000</td>\n",
       "      <td>273.078000</td>\n",
       "      <td>3.990000</td>\n",
       "      <td>595.500000</td>\n",
       "      <td>3924.000000</td>\n",
       "    </tr>\n",
       "    <tr>\n",
       "      <th>75%</th>\n",
       "      <td>801.750000</td>\n",
       "      <td>2010.000000</td>\n",
       "      <td>4.170000</td>\n",
       "      <td>113906.500000</td>\n",
       "      <td>1487.957500</td>\n",
       "      <td>721.180500</td>\n",
       "      <td>6.990000</td>\n",
       "      <td>932.500000</td>\n",
       "      <td>5312.250000</td>\n",
       "    </tr>\n",
       "    <tr>\n",
       "      <th>max</th>\n",
       "      <td>1069.000000</td>\n",
       "      <td>2016.000000</td>\n",
       "      <td>4.770000</td>\n",
       "      <td>206792.000000</td>\n",
       "      <td>47795.000000</td>\n",
       "      <td>28677.000000</td>\n",
       "      <td>33.860000</td>\n",
       "      <td>1273.000000</td>\n",
       "      <td>61560.000000</td>\n",
       "    </tr>\n",
       "  </tbody>\n",
       "</table>\n",
       "</div>"
      ],
      "text/plain": [
       "             index  Publishing Year  Book_average_rating  Book_ratings_count  \\\n",
       "count  1070.000000      1069.000000          1070.000000         1070.000000   \n",
       "mean    534.500000      1971.377923             4.007000        94909.913084   \n",
       "std     309.026698       185.080257             0.247244        31513.242518   \n",
       "min       0.000000      -560.000000             2.970000        27308.000000   \n",
       "25%     267.250000      1985.000000             3.850000        70398.000000   \n",
       "50%     534.500000      2003.000000             4.015000        89309.000000   \n",
       "75%     801.750000      2010.000000             4.170000       113906.500000   \n",
       "max    1069.000000      2016.000000             4.770000       206792.000000   \n",
       "\n",
       "        gross sales  publisher revenue   sale price   sales rank    units sold  \n",
       "count   1070.000000        1070.000000  1070.000000  1070.000000   1070.000000  \n",
       "mean    1856.622944         843.281030     4.869561   611.652336   9676.980374  \n",
       "std     3936.924240        2257.596743     3.559919   369.849830  15370.571306  \n",
       "min      104.940000           0.000000     0.990000     1.000000    106.000000  \n",
       "25%      372.465000           0.000000     1.990000   287.500000    551.250000  \n",
       "50%      809.745000         273.078000     3.990000   595.500000   3924.000000  \n",
       "75%     1487.957500         721.180500     6.990000   932.500000   5312.250000  \n",
       "max    47795.000000       28677.000000    33.860000  1273.000000  61560.000000  "
      ]
     },
     "execution_count": 5,
     "metadata": {},
     "output_type": "execute_result"
    }
   ],
   "source": [
    "df.describe()"
   ]
  },
  {
   "cell_type": "code",
   "execution_count": 7,
   "id": "52d75ccc",
   "metadata": {},
   "outputs": [],
   "source": [
    "df = df[df['Publishing Year'] >= 1900]"
   ]
  },
  {
   "cell_type": "code",
   "execution_count": 10,
   "id": "54f6f92a",
   "metadata": {},
   "outputs": [
    {
     "data": {
      "text/plain": [
       "index                   0\n",
       "Publishing Year         0\n",
       "Book Name               0\n",
       "Author                  0\n",
       "language_code          47\n",
       "Author_Rating           0\n",
       "Book_average_rating     0\n",
       "Book_ratings_count      0\n",
       "genre                   0\n",
       "gross sales             0\n",
       "publisher revenue       0\n",
       "sale price              0\n",
       "sales rank              0\n",
       "Publisher               0\n",
       "units sold              0\n",
       "dtype: int64"
      ]
     },
     "execution_count": 10,
     "metadata": {},
     "output_type": "execute_result"
    }
   ],
   "source": [
    "# quantidade de nulos\n",
    "df.isna().sum()"
   ]
  },
  {
   "cell_type": "code",
   "execution_count": null,
   "id": "b70f1dcf",
   "metadata": {},
   "outputs": [],
   "source": [
    "# retirando as linhas sem o nome do livro\n",
    "df = df[~df[\"Book Name\"].isna()]"
   ]
  },
  {
   "cell_type": "code",
   "execution_count": 12,
   "id": "c18b92f3",
   "metadata": {},
   "outputs": [
    {
     "data": {
      "text/plain": [
       "0"
      ]
     },
     "execution_count": 12,
     "metadata": {},
     "output_type": "execute_result"
    }
   ],
   "source": [
    "# verificação das duplicidade\n",
    "df.duplicated().sum()"
   ]
  },
  {
   "cell_type": "code",
   "execution_count": 13,
   "id": "5ff759a6",
   "metadata": {},
   "outputs": [
    {
     "data": {
      "text/plain": [
       "index                  988\n",
       "Publishing Year        101\n",
       "Book Name              987\n",
       "Author                 669\n",
       "language_code            8\n",
       "Author_Rating            4\n",
       "Book_average_rating    133\n",
       "Book_ratings_count     983\n",
       "genre                    4\n",
       "gross sales            774\n",
       "publisher revenue      570\n",
       "sale price             143\n",
       "sales rank             818\n",
       "Publisher                9\n",
       "units sold             470\n",
       "dtype: int64"
      ]
     },
     "execution_count": 13,
     "metadata": {},
     "output_type": "execute_result"
    }
   ],
   "source": [
    "# verificação dos valores nulos\n",
    "df.nunique()"
   ]
  },
  {
   "cell_type": "code",
   "execution_count": 15,
   "id": "2cf8a126",
   "metadata": {},
   "outputs": [
    {
     "data": {
      "image/png": "[encoded data removed]",
      "text/plain": [
       "<Figure size 640x480 with 1 Axes>"
      ]
     },
     "metadata": {},
     "output_type": "display_data"
    }
   ],
   "source": [
    "plt.hist(df['Publishing Year'])\n",
    "plt.xlabel('Publishing Year')\n",
    "plt.ylabel('Frequency')\n",
    "plt.title('Distribuição');"
   ]
  },
  {
   "cell_type": "code",
   "execution_count": 16,
   "id": "412a1d56",
   "metadata": {},
   "outputs": [
    {
     "data": {
      "text/plain": [
       "genre\n",
       "genre fiction    759\n",
       "nonfiction       160\n",
       "fiction           54\n",
       "children          15\n",
       "Name: count, dtype: int64"
      ]
     },
     "execution_count": 16,
     "metadata": {},
     "output_type": "execute_result"
    }
   ],
   "source": [
    "df['genre'].value_counts()"
   ]
  },
  {
   "cell_type": "code",
   "execution_count": 17,
   "id": "415182c3",
   "metadata": {},
   "outputs": [],
   "source": [
    "# correção do nome de genero\n",
    "df['genre'] = df['genre'].apply(lambda genre: \"fiction\" if genre == \"genre fiction\" else genre)"
   ]
  },
  {
   "cell_type": "code",
   "execution_count": 18,
   "id": "5395cd16",
   "metadata": {},
   "outputs": [
    {
     "data": {
      "text/plain": [
       "genre\n",
       "fiction       813\n",
       "nonfiction    160\n",
       "children       15\n",
       "Name: count, dtype: int64"
      ]
     },
     "execution_count": 18,
     "metadata": {},
     "output_type": "execute_result"
    }
   ],
   "source": [
    "df['genre'].value_counts()"
   ]
  },
  {
   "cell_type": "code",
   "execution_count": 19,
   "id": "3405b856",
   "metadata": {},
   "outputs": [
    {
     "data": {
      "text/plain": [
       "<Axes: xlabel='genre'>"
      ]
     },
     "execution_count": 19,
     "metadata": {},
     "output_type": "execute_result"
    },
    {
     "data": {
      "image/png": "[encoded data removed]",
      "text/plain": [
       "<Figure size 640x480 with 1 Axes>"
      ]
     },
     "metadata": {},
     "output_type": "display_data"
    }
   ],
   "source": [
    "df[\"genre\"].value_counts().plot(kind=\"bar\")"
   ]
  },
  {
   "cell_type": "code",
   "execution_count": 20,
   "id": "875b6b42",
   "metadata": {},
   "outputs": [
    {
     "data": {
      "text/plain": [
       "Author\n",
       "Bill Watterson                  4.650000\n",
       "Bill Watterson, G.B. Trudeau    4.610000\n",
       "J.R.R. Tolkien                  4.590000\n",
       "George R.R. Martin              4.560000\n",
       "Sarah J. Maas                   4.526000\n",
       "                                  ...   \n",
       "Chetan Bhagat                   3.273333\n",
       "Audrey Niffenegger              3.230000\n",
       "Herman Koch, Sam Garrett        3.220000\n",
       "P.D. James                      3.210000\n",
       "Sue Monk Kidd                   3.100000\n",
       "Name: Book_average_rating, Length: 669, dtype: float64"
      ]
     },
     "execution_count": 20,
     "metadata": {},
     "output_type": "execute_result"
    }
   ],
   "source": [
    "df.groupby(\"Author\")[\"Book_average_rating\"].mean().sort_values(ascending=False)"
   ]
  },
  {
   "cell_type": "code",
   "execution_count": 24,
   "id": "c4765155",
   "metadata": {},
   "outputs": [
    {
     "data": {
      "image/png": "[encoded data removed]",
      "text/plain": [
       "<Figure size 640x480 with 1 Axes>"
      ]
     },
     "metadata": {},
     "output_type": "display_data"
    }
   ],
   "source": [
    "sns.boxplot(x=\"genre\", y=\"Book_ratings_count\", data=df)\n",
    "plt.xlabel(\"Gênero\");"
   ]
  },
  {
   "cell_type": "code",
   "execution_count": 23,
   "id": "e2aaf903",
   "metadata": {},
   "outputs": [
    {
     "data": {
      "image/png": "[encoded data removed]",
      "text/plain": [
       "<Figure size 640x480 with 1 Axes>"
      ]
     },
     "metadata": {},
     "output_type": "display_data"
    }
   ],
   "source": [
    "sns.boxplot(x=\"genre\", y=\"Book_average_rating\", data=df)\n",
    "plt.xlabel(\"Gênero\");"
   ]
  },
  {
   "cell_type": "code",
   "execution_count": 26,
   "id": "5b8d54c9",
   "metadata": {},
   "outputs": [
    {
     "data": {
      "image/png": "[encoded data removed]",
      "text/plain": [
       "<Figure size 640x480 with 1 Axes>"
      ]
     },
     "metadata": {},
     "output_type": "display_data"
    }
   ],
   "source": [
    "plt.scatter(df[\"sale price\"], df[\"units sold\"])\n",
    "plt.xlabel(\"Sale Price\")\n",
    "plt.ylabel(\"Units Sold\");"
   ]
  },
  {
   "cell_type": "code",
   "execution_count": 27,
   "id": "7f0a27ff",
   "metadata": {},
   "outputs": [
    {
     "data": {
      "text/plain": [
       "language_code\n",
       "eng      670\n",
       "en-US    226\n",
       "en-GB     29\n",
       "en-CA      7\n",
       "fre        4\n",
       "spa        2\n",
       "ara        2\n",
       "nl         1\n",
       "Name: count, dtype: int64"
      ]
     },
     "execution_count": 27,
     "metadata": {},
     "output_type": "execute_result"
    }
   ],
   "source": [
    "df[\"language_code\"].value_counts()"
   ]
  },
  {
   "cell_type": "code",
   "execution_count": 28,
   "id": "9c682962",
   "metadata": {},
   "outputs": [],
   "source": [
    "language_counts = df[\"language_code\"].value_counts()"
   ]
  },
  {
   "cell_type": "code",
   "execution_count": 30,
   "id": "632e0d60",
   "metadata": {},
   "outputs": [
    {
     "data": {
      "image/png": "[encoded data removed]",
      "text/plain": [
       "<Figure size 640x480 with 1 Axes>"
      ]
     },
     "metadata": {},
     "output_type": "display_data"
    }
   ],
   "source": [
    "plt.pie(language_counts, labels=language_counts.index);"
   ]
  }
 ],
 "metadata": {
  "kernelspec": {
   "display_name": "Python 3",
   "language": "python",
   "name": "python3"
  },
  "language_info": {
   "codemirror_mode": {
    "name": "ipython",
    "version": 3
   },
   "file_extension": ".py",
   "mimetype": "text/x-python",
   "name": "python",
   "nbconvert_exporter": "python",
   "pygments_lexer": "ipython3",
   "version": "3.12.1"
  }
 },
 "nbformat": 4,
 "nbformat_minor": 5
}
